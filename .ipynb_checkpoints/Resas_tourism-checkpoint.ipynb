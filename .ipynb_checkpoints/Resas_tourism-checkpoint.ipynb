{
 "cells": [
  {
   "cell_type": "code",
   "execution_count": 1,
   "metadata": {
    "collapsed": false,
    "deletable": true,
    "editable": true
   },
   "outputs": [],
   "source": [
    "import json\n",
    "import pandas as pd\n",
    "import data_getter as dg\n",
    "import orsm_fastest_routes as gfr"
   ]
  },
  {
   "cell_type": "code",
   "execution_count": 3,
   "metadata": {
    "collapsed": false,
    "deletable": true,
    "editable": true
   },
   "outputs": [],
   "source": [
    "data = dg.resas_api_tourism_attraction_request('27','-')._content.decode('UTF-8')\n",
    "attractions = pd.DataFrame.from_dict(json.loads(data)['result']['data'])\n"
   ]
  },
  {
   "cell_type": "code",
   "execution_count": 2,
   "metadata": {
    "collapsed": false,
    "deletable": true,
    "editable": true
   },
   "outputs": [
    {
     "name": "stdout",
     "output_type": "stream",
     "text": [
      "{u'geometry_format': u'encodedpolyline', u'geometry': u'mtkeHuv|q@~@VLHz@\\\\PR|@hBt@j@^n@L\\\\NjALv@Jh@NXi@zBm@jCKTy@z@qAhBa@\\\\[Ne@DgCc@i@?[Ty@hAi@zASRi@R}@H_@N[b@kAdCy@`Au@d@eA|@q@h@WRe@PYHYBqADgAAcAL_A^w@~@q@`@w@Zw@Cm@K[PeA|Aa@p@g@fAiAhBuAv@]VU^k@xAUXe@TqATy@V}@f@_@V[MUWqA_FKy@Me@_@cAu@{Ae@c@aAfBaAv@g@rBm@|@w@x@m@^U@m@Ma@SI\\\\mAlEkAjC_AjC_ApCe@z@i@j@q@f@[NsAp@u@T}A\\\\wATU?WCeBm@q@MwAGUCg@SMaAi@mDQm@K}@Mq@u@mAc@i@c@Ys@[WW_@q@e@a@cA_@w@E{BHmBXqBkBsA}@{Ao@iAB{@QYSi@qCUy@Ee@@SDWVc@j@{@LKLAVNb@r@J@HEHK?]k@iDe@w@COAWBUh@qBDc@?c@Q{BGa@MQKCOBgA\\\\{@AKEs@Wq@i@q@{@s@gAk@kA]g@g@_@I]??k@i@yBkEa@}@W}@WkCUqC?_@Hg@ZqABg@Gm@YoAEgAMq@@jAB|CC`@{@rACH', u'segments': [{u'duration': 733.4, u'distance': 5918.2, u'steps': [{u'duration': 23, u'distance': 383.1, u'instruction': u'Head south on Benatweg', u'type': 6, u'way_points': [0, 12]}, {u'duration': 45.4, u'distance': 757.4, u'instruction': u'Turn right onto H\\xf6lzle, K 5528', u'type': 1, u'way_points': [12, 33]}, {u'duration': 58.8, u'distance': 980.2, u'instruction': u'Continue straight onto Sulzbacher Stra\\xdfe, K 5528', u'type': 6, u'way_points': [33, 63]}, {u'duration': 606.1, u'distance': 3797.5, u'instruction': u'Turn slight right', u'type': 5, u'way_points': [63, 181]}]}], u'summary': {u'duration': 733.4, u'distance': 5918.2, u'ascent': 280, u'descent': 359}, u'bbox': [8.327707, 48.231946, 8.345244, 48.263552], u'way_points': [0, 181]}\n"
     ]
    }
   ],
   "source": [
    "x = json.loads(gfr.get_direction('8.34234,48.23424 | 8.34423,48.26424','driving-hgv')._content.decode('UTF-8'))\n",
    "print x['routes'][0]"
   ]
  },
  {
   "cell_type": "code",
   "execution_count": null,
   "metadata": {
    "collapsed": true,
    "deletable": true,
    "editable": true
   },
   "outputs": [],
   "source": [
    "#ここに巡回セールスマン問題を解くようにして、京都や大阪の観光地"
   ]
  }
 ],
 "metadata": {
  "kernelspec": {
   "display_name": "Python 2",
   "language": "python",
   "name": "python2"
  },
  "language_info": {
   "codemirror_mode": {
    "name": "ipython",
    "version": 2
   },
   "file_extension": ".py",
   "mimetype": "text/x-python",
   "name": "python",
   "nbconvert_exporter": "python",
   "pygments_lexer": "ipython2",
   "version": "2.7.13"
  }
 },
 "nbformat": 4,
 "nbformat_minor": 2
}
