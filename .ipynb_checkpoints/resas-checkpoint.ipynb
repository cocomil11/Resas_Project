{
 "cells": [
  {
   "cell_type": "code",
   "execution_count": 64,
   "metadata": {
    "collapsed": false
   },
   "outputs": [],
   "source": [
    "import json\n",
    "import pandas as pd\n",
    "import data_getter as dg"
   ]
  },
  {
   "cell_type": "code",
   "execution_count": 70,
   "metadata": {
    "collapsed": false
   },
   "outputs": [],
   "source": [
    "data = dg.resas_api_pref_request()._content.decode('UTF-8')\n",
    "pref = pd.DataFrame.from_dict(json.loads(data)['result'])\n",
    "\n",
    "data = dg.resas_api_city_request()._content.decode('UTF-8')\n",
    "cities = pd.DataFrame.from_dict(json.loads(data)['result'])\n",
    "\n",
    "data = dg.resas_api_broad_industry_request()._content.decode('UTF-8')\n",
    "broadIn = pd.DataFrame.from_dict(json.loads(data)['result'])\n",
    "\n",
    "data = dg.resas_api_middle_industry_request()._content.decode('UTF-8')\n",
    "middleIn = pd.DataFrame.from_dict(json.loads(data)['result'])\n",
    "\n",
    "data = dg.resas_api_narrow_industry_request()._content.decode('UTF-8')\n",
    "narrowIn = pd.DataFrame.from_dict(json.loads(data)['result'])"
   ]
  },
  {
   "cell_type": "code",
   "execution_count": 73,
   "metadata": {
    "collapsed": false
   },
   "outputs": [
    {
     "data": {
      "text/plain": [
       "0       False\n",
       "1       False\n",
       "2       False\n",
       "3       False\n",
       "4       False\n",
       "5       False\n",
       "6       False\n",
       "7       False\n",
       "8       False\n",
       "9       False\n",
       "10      False\n",
       "11      False\n",
       "12      False\n",
       "13      False\n",
       "14      False\n",
       "15      False\n",
       "16      False\n",
       "17      False\n",
       "18      False\n",
       "19      False\n",
       "20      False\n",
       "21      False\n",
       "22      False\n",
       "23      False\n",
       "24      False\n",
       "25      False\n",
       "26      False\n",
       "27      False\n",
       "28      False\n",
       "29      False\n",
       "        ...  \n",
       "1890    False\n",
       "1891    False\n",
       "1892    False\n",
       "1893    False\n",
       "1894    False\n",
       "1895    False\n",
       "1896    False\n",
       "1897    False\n",
       "1898    False\n",
       "1899    False\n",
       "1900    False\n",
       "1901    False\n",
       "1902    False\n",
       "1903    False\n",
       "1904    False\n",
       "1905    False\n",
       "1906    False\n",
       "1907    False\n",
       "1908    False\n",
       "1909    False\n",
       "1910    False\n",
       "1911    False\n",
       "1912    False\n",
       "1913    False\n",
       "1914    False\n",
       "1915    False\n",
       "1916    False\n",
       "1917    False\n",
       "1918    False\n",
       "1919    False\n",
       "Name: prefCode, dtype: bool"
      ]
     },
     "execution_count": 73,
     "metadata": {},
     "output_type": "execute_result"
    }
   ],
   "source": [
    "cities\n",
    "cities['prefCode']==27"
   ]
  },
  {
   "cell_type": "code",
   "execution_count": 113,
   "metadata": {
    "collapsed": false
   },
   "outputs": [
    {
     "data": {
      "text/plain": [
       "\"\\nlist = []\\nfor cityCode in citiesOsaka['cityCode']:\\n    for sicCode in broadIn['sicCode']:\\n        for simcCode in middleIn['simcCode']:\\n            data =dg.resas_api_labor2012_request('27','27100','A',simcCode)._content.decode('UTF-8')\\n            labor2012 = pd.io.json.json_normalize(json.loads(data)['result'],'data',['sicName','cityCode','prefCode','cityName','prefName','simcName'])\\n            list.append(labor2012)\\n\\n    # data = resas_api_labor2012_request('47','-','-','-')._content.decode('UTF-8')\\n\\xe3\\x82\\xa2\\xe3\\x82\\xaf\\xe3\\x82\\xbb\\xe3\\x82\\xb9\\xe5\\x9b\\x9e\\xe6\\x95\\xb0\\xe3\\x81\\x8c\\xe3\\x81\\x8b\\xe3\\x81\\xaa\\xe3\\x82\\x8a\\xe5\\x8e\\xb3\\xe3\\x81\\x97\\xe3\\x81\\x84\\xe3\\x82\\x88\\xe3\\x81\\x86\\xe3\\x81\\xa7\\xe3\\x80\\x81\\xe3\\x81\\xaa\\xe3\\x81\\x8b\\xe3\\x81\\xaa\\xe3\\x81\\x8b\\xe5\\x8f\\x96\\xe3\\x82\\x8a\\xe5\\x87\\xba\\xe3\\x81\\x9b\\xe3\\x81\\xaa\\xe3\\x81\\x84\\xe3\\x80\\x82\\xe3\\x80\\x82\\n\""
      ]
     },
     "execution_count": 113,
     "metadata": {},
     "output_type": "execute_result"
    }
   ],
   "source": [
    "#27 大阪\n",
    "citiesOsaka = cities.loc[cities['prefCode']==27]\n",
    "citiesOsaka['cityCode']\n",
    "\n",
    "data =dg.resas_api_labor2012_request('27','27100','A','01')._content.decode('UTF-8')\n",
    "labor2012 = pd.io.json.json_normalize(json.loads(data)['result'],'data',['sicName','cityCode','prefCode','cityName','prefName','simcName'])\n",
    "list.append(labor2012)\n",
    "'''\n",
    "list = []\n",
    "for cityCode in citiesOsaka['cityCode']:\n",
    "    for sicCode in broadIn['sicCode']:\n",
    "        for simcCode in middleIn['simcCode']:\n",
    "            data =dg.resas_api_labor2012_request('27','27100','A',simcCode)._content.decode('UTF-8')\n",
    "            labor2012 = pd.io.json.json_normalize(json.loads(data)['result'],'data',['sicName','cityCode','prefCode','cityName','prefName','simcName'])\n",
    "            list.append(labor2012)\n",
    "\n",
    "    # data = resas_api_labor2012_request('47','-','-','-')._content.decode('UTF-8')\n",
    "アクセス回数がかなり厳しいようで、なかなか取り出せない。。\n",
    "'''\n"
   ]
  },
  {
   "cell_type": "code",
   "execution_count": 114,
   "metadata": {
    "collapsed": false
   },
   "outputs": [
    {
     "data": {
      "text/html": [
       "<div>\n",
       "<table border=\"1\" class=\"dataframe\">\n",
       "  <thead>\n",
       "    <tr style=\"text-align: right;\">\n",
       "      <th></th>\n",
       "      <th>concealmentFlg</th>\n",
       "      <th>value</th>\n",
       "      <th>year</th>\n",
       "      <th>sicName</th>\n",
       "      <th>cityCode</th>\n",
       "      <th>cityName</th>\n",
       "      <th>prefCode</th>\n",
       "      <th>prefName</th>\n",
       "      <th>simcName</th>\n",
       "    </tr>\n",
       "  </thead>\n",
       "  <tbody>\n",
       "    <tr>\n",
       "      <th>0</th>\n",
       "      <td>0</td>\n",
       "      <td>2836</td>\n",
       "      <td>2012</td>\n",
       "      <td>農業,林業</td>\n",
       "      <td>27100</td>\n",
       "      <td>大阪市</td>\n",
       "      <td>27</td>\n",
       "      <td>大阪府</td>\n",
       "      <td>農業</td>\n",
       "    </tr>\n",
       "  </tbody>\n",
       "</table>\n",
       "</div>"
      ],
      "text/plain": [
       "   concealmentFlg  value  year sicName cityCode cityName  prefCode prefName  \\\n",
       "0               0   2836  2012   農業,林業    27100      大阪市        27      大阪府   \n",
       "\n",
       "  simcName  \n",
       "0       農業  "
      ]
     },
     "execution_count": 114,
     "metadata": {},
     "output_type": "execute_result"
    }
   ],
   "source": [
    "labor2012"
   ]
  },
  {
   "cell_type": "code",
   "execution_count": null,
   "metadata": {
    "collapsed": true
   },
   "outputs": [],
   "source": []
  }
 ],
 "metadata": {
  "kernelspec": {
   "display_name": "Python 2",
   "language": "python",
   "name": "python2"
  },
  "language_info": {
   "codemirror_mode": {
    "name": "ipython",
    "version": 2
   },
   "file_extension": ".py",
   "mimetype": "text/x-python",
   "name": "python",
   "nbconvert_exporter": "python",
   "pygments_lexer": "ipython2",
   "version": "2.7.13"
  }
 },
 "nbformat": 4,
 "nbformat_minor": 2
}
