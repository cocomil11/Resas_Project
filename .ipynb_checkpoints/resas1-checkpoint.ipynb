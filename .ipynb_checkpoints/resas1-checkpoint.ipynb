{
 "cells": [
  {
   "cell_type": "code",
   "execution_count": 91,
   "metadata": {
    "collapsed": false
   },
   "outputs": [],
   "source": [
    "import json\n",
    "import requests"
   ]
  },
  {
   "cell_type": "code",
   "execution_count": 92,
   "metadata": {
    "collapsed": true
   },
   "outputs": [],
   "source": [
    "def resas_api_request():\n",
    "    api_key = 'JT8xGoXj90mJDwrYvU6cax4oPYUfavLl4KVBCTLo'\n",
    "    url =\"https://opendata.resas-portal.go.jp/\"\n",
    "    headers = {\n",
    "                        'Content-Type': 'application/json',\n",
    "                        'X-API-KEY':api_key\n",
    "    }\n",
    "    url_pref = 'api/v1-rc.1/prefectures'\n",
    "    prefdata =  requests.get(url=url+url_pref,headers=headers)\n",
    "    return  prefdata"
   ]
  },
  {
   "cell_type": "code",
   "execution_count": 93,
   "metadata": {
    "collapsed": false
   },
   "outputs": [
    {
     "data": {
      "text/plain": [
       "u'{\"message\":null,\"result\":[{\"prefCode\":1,\"prefName\":\"\\u5317\\u6d77\\u9053\"},{\"prefCode\":2,\"prefName\":\"\\u9752\\u68ee\\u770c\"},{\"prefCode\":3,\"prefName\":\"\\u5ca9\\u624b\\u770c\"},{\"prefCode\":4,\"prefName\":\"\\u5bae\\u57ce\\u770c\"},{\"prefCode\":5,\"prefName\":\"\\u79cb\\u7530\\u770c\"},{\"prefCode\":6,\"prefName\":\"\\u5c71\\u5f62\\u770c\"},{\"prefCode\":7,\"prefName\":\"\\u798f\\u5cf6\\u770c\"},{\"prefCode\":8,\"prefName\":\"\\u8328\\u57ce\\u770c\"},{\"prefCode\":9,\"prefName\":\"\\u6803\\u6728\\u770c\"},{\"prefCode\":10,\"prefName\":\"\\u7fa4\\u99ac\\u770c\"},{\"prefCode\":11,\"prefName\":\"\\u57fc\\u7389\\u770c\"},{\"prefCode\":12,\"prefName\":\"\\u5343\\u8449\\u770c\"},{\"prefCode\":13,\"prefName\":\"\\u6771\\u4eac\\u90fd\"},{\"prefCode\":14,\"prefName\":\"\\u795e\\u5948\\u5ddd\\u770c\"},{\"prefCode\":15,\"prefName\":\"\\u65b0\\u6f5f\\u770c\"},{\"prefCode\":16,\"prefName\":\"\\u5bcc\\u5c71\\u770c\"},{\"prefCode\":17,\"prefName\":\"\\u77f3\\u5ddd\\u770c\"},{\"prefCode\":18,\"prefName\":\"\\u798f\\u4e95\\u770c\"},{\"prefCode\":19,\"prefName\":\"\\u5c71\\u68a8\\u770c\"},{\"prefCode\":20,\"prefName\":\"\\u9577\\u91ce\\u770c\"},{\"prefCode\":21,\"prefName\":\"\\u5c90\\u961c\\u770c\"},{\"prefCode\":22,\"prefName\":\"\\u9759\\u5ca1\\u770c\"},{\"prefCode\":23,\"prefName\":\"\\u611b\\u77e5\\u770c\"},{\"prefCode\":24,\"prefName\":\"\\u4e09\\u91cd\\u770c\"},{\"prefCode\":25,\"prefName\":\"\\u6ecb\\u8cc0\\u770c\"},{\"prefCode\":26,\"prefName\":\"\\u4eac\\u90fd\\u5e9c\"},{\"prefCode\":27,\"prefName\":\"\\u5927\\u962a\\u5e9c\"},{\"prefCode\":28,\"prefName\":\"\\u5175\\u5eab\\u770c\"},{\"prefCode\":29,\"prefName\":\"\\u5948\\u826f\\u770c\"},{\"prefCode\":30,\"prefName\":\"\\u548c\\u6b4c\\u5c71\\u770c\"},{\"prefCode\":31,\"prefName\":\"\\u9ce5\\u53d6\\u770c\"},{\"prefCode\":32,\"prefName\":\"\\u5cf6\\u6839\\u770c\"},{\"prefCode\":33,\"prefName\":\"\\u5ca1\\u5c71\\u770c\"},{\"prefCode\":34,\"prefName\":\"\\u5e83\\u5cf6\\u770c\"},{\"prefCode\":35,\"prefName\":\"\\u5c71\\u53e3\\u770c\"},{\"prefCode\":36,\"prefName\":\"\\u5fb3\\u5cf6\\u770c\"},{\"prefCode\":37,\"prefName\":\"\\u9999\\u5ddd\\u770c\"},{\"prefCode\":38,\"prefName\":\"\\u611b\\u5a9b\\u770c\"},{\"prefCode\":39,\"prefName\":\"\\u9ad8\\u77e5\\u770c\"},{\"prefCode\":40,\"prefName\":\"\\u798f\\u5ca1\\u770c\"},{\"prefCode\":41,\"prefName\":\"\\u4f50\\u8cc0\\u770c\"},{\"prefCode\":42,\"prefName\":\"\\u9577\\u5d0e\\u770c\"},{\"prefCode\":43,\"prefName\":\"\\u718a\\u672c\\u770c\"},{\"prefCode\":44,\"prefName\":\"\\u5927\\u5206\\u770c\"},{\"prefCode\":45,\"prefName\":\"\\u5bae\\u5d0e\\u770c\"},{\"prefCode\":46,\"prefName\":\"\\u9e7f\\u5150\\u5cf6\\u770c\"},{\"prefCode\":47,\"prefName\":\"\\u6c96\\u7e04\\u770c\"}]}'"
      ]
     },
     "execution_count": 93,
     "metadata": {},
     "output_type": "execute_result"
    }
   ],
   "source": [
    "resas_api_request()._content.decode('UTF-8')\n",
    "#jupyter ではなぜかUTF-8によるDecodeができない、、、04/09/2017"
   ]
  },
  {
   "cell_type": "code",
   "execution_count": null,
   "metadata": {
    "collapsed": true
   },
   "outputs": [],
   "source": []
  }
 ],
 "metadata": {
  "kernelspec": {
   "display_name": "Python 2",
   "language": "python",
   "name": "python2"
  },
  "language_info": {
   "codemirror_mode": {
    "name": "ipython",
    "version": 2
   },
   "file_extension": ".py",
   "mimetype": "text/x-python",
   "name": "python",
   "nbconvert_exporter": "python",
   "pygments_lexer": "ipython2",
   "version": "2.7.13"
  }
 },
 "nbformat": 4,
 "nbformat_minor": 2
}
